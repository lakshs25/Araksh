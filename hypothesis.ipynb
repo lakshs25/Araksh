{
 "cells": [
  {
   "cell_type": "code",
   "execution_count": 72,
   "metadata": {},
   "outputs": [],
   "source": [
    "import pandas as pd\n",
    "import numpy as np\n",
    "from pandas.api.types import is_numeric_dtype\n",
    "import matplotlib.mlab as mlab\n",
    "import matplotlib.pyplot as plt\n",
    "from matplotlib.pyplot import boxplot, show\n",
    "import seaborn as sns\n",
    "import pylab as pl\n",
    "from scipy.stats import norm"
   ]
  },
  {
   "cell_type": "code",
   "execution_count": 73,
   "metadata": {},
   "outputs": [],
   "source": [
    "#Hypothesis testing for age\n",
    "df=pd.read_csv('daily-inmates-in-custody.csv')\n",
    "meanpopulation=df[\"AGE\"].mean() #population mean\n",
    "sample=df.sample(2500)\n",
    "meansample=sample[\"AGE\"].mean() #sample mean\n",
    "sdsample=sample[\"AGE\"].std() #sample standard deviation\n",
    "z=(meansample-meanpopulation) / (sdsample/50) #calculating z score\n",
    "p=norm.cdf(z) #calculating p value"
   ]
  },
  {
   "cell_type": "code",
   "execution_count": 74,
   "metadata": {},
   "outputs": [
    {
     "name": "stdout",
     "output_type": "stream",
     "text": [
      "Sample mean is  36.25110132158591\n",
      "Sample standard deviation is  12.173550686906003\n",
      "Population mean is 36.12100290697674\n",
      "Null hypothesis is mean equal to  36.12100290697674\n",
      "Alternate hypothesis is mean not equal to  36.12100290697674\n",
      "z value is  0.5343486791782953\n",
      "p value is  0.7034498406005107\n",
      "p>0.05, hence null hypothesis and alternate hypothesis are both plausible\n"
     ]
    }
   ],
   "source": [
    "print(\"Sample mean is \",meansample)\n",
    "print(\"Sample standard deviation is \",sdsample)\n",
    "print(\"Population mean is\",meanpopulation)\n",
    "print(\"Null hypothesis is mean equal to \",meanpopulation)\n",
    "print(\"Alternate hypothesis is mean not equal to \",meanpopulation)\n",
    "print(\"z value is \",z)\n",
    "print(\"p value is \",p)\n",
    "print(\"p>0.05, hence null hypothesis and alternate hypothesis are both plausible\")"
   ]
  },
  {
   "cell_type": "code",
   "execution_count": null,
   "metadata": {},
   "outputs": [],
   "source": []
  }
 ],
 "metadata": {
  "kernelspec": {
   "display_name": "Python 3",
   "language": "python",
   "name": "python3"
  },
  "language_info": {
   "codemirror_mode": {
    "name": "ipython",
    "version": 3
   },
   "file_extension": ".py",
   "mimetype": "text/x-python",
   "name": "python",
   "nbconvert_exporter": "python",
   "pygments_lexer": "ipython3",
   "version": "3.7.0"
  }
 },
 "nbformat": 4,
 "nbformat_minor": 2
}
